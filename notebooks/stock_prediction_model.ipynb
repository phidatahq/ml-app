{
 "cells": [
  {
   "cell_type": "markdown",
   "id": "30a34c55-4eac-4766-8c78-c5cac974a844",
   "metadata": {
    "tags": []
   },
   "source": [
    "# Stock Prediction Model using Prophet and Yfinance"
   ]
  },
  {
   "cell_type": "code",
   "execution_count": null,
   "id": "673df3c5-28a1-4d87-b109-1c47f774e9c5",
   "metadata": {},
   "outputs": [],
   "source": [
    "import datetime\n",
    "from pathlib import Path\n",
    "\n",
    "import joblib\n",
    "import pandas as pd\n",
    "import yfinance as yf\n",
    "from prophet import Prophet\n",
    "\n",
    "from workspace.settings import ws_settings"
   ]
  },
  {
   "cell_type": "code",
   "execution_count": null,
   "id": "31d1b6d8-61f8-489e-bf4a-2a57d80a253a",
   "metadata": {},
   "outputs": [],
   "source": [
    "TODAY = datetime.date.today()\n",
    "DEFAULT_TICKER = \"GOOG\"\n",
    "DEFAULT_DAYS_TO_PREDICT = 21\n",
    "MODELS_DIR = ws_settings.ws_root.joinpath(\"models\")\n",
    "\n",
    "\n",
    "def train(ticker=DEFAULT_TICKER):\n",
    "    data = yf.download(ticker, \"2020-01-01\", TODAY.strftime(\"%Y-%m-%d\"))\n",
    "    data.head()\n",
    "    data[\"Adj Close\"].plot(title=\"Stock Adjusted Closing Price\")\n",
    "\n",
    "    df_forecast = data.copy()\n",
    "    df_forecast.reset_index(inplace=True)\n",
    "    df_forecast[\"ds\"] = df_forecast[\"Date\"]\n",
    "    df_forecast[\"y\"] = df_forecast[\"Adj Close\"]\n",
    "    df_forecast = df_forecast[[\"ds\", \"y\"]]\n",
    "    df_forecast\n",
    "\n",
    "    model = Prophet()\n",
    "    model.fit(df_forecast)\n",
    "    joblib.dump(model, MODELS_DIR.joinpath(f\"{ticker}_prediction.joblib\"))\n",
    "\n",
    "\n",
    "def predict(ticker=DEFAULT_TICKER, days=DEFAULT_DAYS_TO_PREDICT):\n",
    "    model_file = MODELS_DIR.joinpath(f\"{ticker}_prediction.joblib\")\n",
    "    if not model_file.exists():\n",
    "        return None\n",
    "\n",
    "    model = joblib.load(model_file)\n",
    "    future = TODAY + datetime.timedelta(days=days)\n",
    "\n",
    "    dates = pd.date_range(\n",
    "        start=\"2020-01-01\",\n",
    "        end=future.strftime(\"%Y-%m-%d\"),\n",
    "    )\n",
    "    df = pd.DataFrame({\"ds\": dates})\n",
    "\n",
    "    forecast = model.predict(df)\n",
    "    model.plot(forecast)\n",
    "    # model.plot_components(forecast)\n",
    "\n",
    "    return forecast.tail(days).to_dict(\"records\")\n",
    "\n",
    "\n",
    "def display_prediction_result(prediction_result):\n",
    "    output = {}\n",
    "    for data in prediction_result:\n",
    "        date = data[\"ds\"].strftime(\"%Y-%m-%d\")\n",
    "        output[date] = data[\"trend\"]\n",
    "    return output"
   ]
  },
  {
   "cell_type": "code",
   "execution_count": null,
   "id": "e764de89-77db-4606-8d5b-34cd03b6dc1b",
   "metadata": {},
   "outputs": [],
   "source": [
    "tickers_to_train = [\"GOOG\", \"MSFT\", \"AAPL\"]\n",
    "\n",
    "for ticker in tickers_to_train:\n",
    "    train(ticker)"
   ]
  },
  {
   "cell_type": "code",
   "execution_count": null,
   "id": "8126e6d5-7e08-4ba9-a0fc-ca1d3f45a162",
   "metadata": {},
   "outputs": [],
   "source": [
    "tickers_to_predict = [\"GOOG\", \"MSFT\", \"AAPL\"]\n",
    "\n",
    "for ticker in tickers_to_train:\n",
    "    prediction_result = predict(ticker, 60)"
   ]
  },
  {
   "cell_type": "code",
   "execution_count": null,
   "id": "37f9bd90-3922-4691-8ba2-00c200b179d7",
   "metadata": {},
   "outputs": [],
   "source": [
    "# display_prediction_result(prediction_result)"
   ]
  }
 ],
 "metadata": {
  "kernelspec": {
   "display_name": "Python 3 (ipykernel)",
   "language": "python",
   "name": "python3"
  },
  "language_info": {
   "codemirror_mode": {
    "name": "ipython",
    "version": 3
   },
   "file_extension": ".py",
   "mimetype": "text/x-python",
   "name": "python",
   "nbconvert_exporter": "python",
   "pygments_lexer": "ipython3",
   "version": "3.9.15"
  }
 },
 "nbformat": 4,
 "nbformat_minor": 5
}
