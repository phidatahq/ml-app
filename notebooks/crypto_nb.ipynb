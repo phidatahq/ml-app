{
 "cells": [
  {
   "cell_type": "markdown",
   "id": "51985cb3-9a50-418f-ab52-577366321679",
   "metadata": {
    "tags": []
   },
   "source": [
    "## A notebook to download crypto price data locally"
   ]
  },
  {
   "cell_type": "code",
   "execution_count": null,
   "id": "525a75c7-b283-4704-8094-de9eb312c565",
   "metadata": {
    "tags": [
     "parameters"
    ]
   },
   "outputs": [],
   "source": [
    "from datetime import datetime\n",
    "\n",
    "import httpx\n",
    "import pyarrow as pa\n",
    "\n",
    "from phidata.table.local.csv import CsvTableLocal\n",
    "from phidata.checks.not_empty import NotEmpty\n",
    "from phidata.utils.log import logger\n",
    "from phidata.utils.print_table import print_table"
   ]
  },
  {
   "cell_type": "code",
   "execution_count": null,
   "id": "4cc60fa4-980e-4018-be93-6bbbedf2d3e6",
   "metadata": {
    "tags": [
     "parameters"
    ]
   },
   "outputs": [],
   "source": [
    "# Create CsvTableLocal for storing data\n",
    "# Path: `storage/tables/crypto_prices`\n",
    "crypto_prices_local = CsvTableLocal(\n",
    "    name=\"crypto_prices\",\n",
    "    database=\"crypto\",\n",
    "    partitions=[\"ds\"],\n",
    "    write_checks=[NotEmpty()],\n",
    ")"
   ]
  },
  {
   "cell_type": "markdown",
   "id": "c0b58bab-7bb4-475b-8d7b-a5040be2e187",
   "metadata": {},
   "source": [
    "### Download prices and load a CsvTableLocal."
   ]
  },
  {
   "cell_type": "code",
   "execution_count": null,
   "id": "43a60fe4-33eb-42f3-b1e5-077011d2c768",
   "metadata": {
    "tags": [
     "parameters"
    ]
   },
   "outputs": [],
   "source": [
    "coins = [\"bitcoin\", \"ethereum\"]\n",
    "\n",
    "run_date = datetime.now()\n",
    "run_day = run_date.strftime(\"%Y-%m-%d\")\n",
    "\n",
    "logger.info(f\"Downloading prices for ds={run_day}\")\n",
    "response = httpx.get(\n",
    "    url=\"https://api.coingecko.com/api/v3/simple/price\",\n",
    "    params={\n",
    "        \"ids\": \",\".join(coins),\n",
    "        \"vs_currencies\": \"usd\",\n",
    "        \"include_market_cap\": \"true\",\n",
    "        \"include_24hr_vol\": \"true\",\n",
    "        \"include_24hr_change\": \"true\",\n",
    "        \"include_last_updated_at\": \"true\",\n",
    "    },\n",
    ").json()\n",
    "\n",
    "# Create pyarrow.Table\n",
    "# https://arrow.apache.org/docs/python/generated/pyarrow.Table.html#pyarrow.Table.from_pylist\n",
    "table = pa.Table.from_pylist(\n",
    "    [\n",
    "        {\n",
    "            \"ds\": run_day,\n",
    "            \"ticker\": coin_name,\n",
    "            \"usd\": coin_data[\"usd\"],\n",
    "            \"usd_market_cap\": coin_data[\"usd_market_cap\"],\n",
    "            \"usd_24h_vol\": coin_data[\"usd_24h_vol\"],\n",
    "            \"usd_24h_change\": coin_data[\"usd_24h_change\"],\n",
    "            \"last_updated_at\": coin_data[\"last_updated_at\"],\n",
    "        }\n",
    "        for coin_name, coin_data in response.items()\n",
    "    ]\n",
    ")\n",
    "\n",
    "# Write table to disk\n",
    "write_success = crypto_prices_local.write_table(table)"
   ]
  },
  {
   "cell_type": "code",
   "execution_count": null,
   "id": "890b0a19-cb01-4bfb-8b5e-aec512e5c65b",
   "metadata": {
    "tags": [
     "parameters"
    ]
   },
   "outputs": [],
   "source": [
    "table: pa.Table = crypto_prices_local.read_table()\n",
    "print_table(title=\"Crypto Prices\", header=table.column_names, rows=table.to_pylist())"
   ]
  },
  {
   "cell_type": "code",
   "execution_count": null,
   "id": "b1d84ab3-c99a-4907-9028-3bcf8bf4ef3b",
   "metadata": {},
   "outputs": [],
   "source": [
    "# Use polars to analyze data\n",
    "import polars as pl\n",
    "\n",
    "pl_df: pl.DataFrame = pl.DataFrame(table)\n",
    "pl_df"
   ]
  },
  {
   "cell_type": "code",
   "execution_count": null,
   "id": "d8465510-617a-482a-8b0c-b751d3b0cb29",
   "metadata": {},
   "outputs": [],
   "source": [
    "# Use pandas to analyze data\n",
    "import pandas as pd\n",
    "\n",
    "pd_df: pd.DataFrame = table.to_pandas()\n",
    "pd_df"
   ]
  }
 ],
 "metadata": {
  "kernelspec": {
   "display_name": "Python 3 (ipykernel)",
   "language": "python",
   "name": "python3"
  },
  "language_info": {
   "codemirror_mode": {
    "name": "ipython",
    "version": 3
   },
   "file_extension": ".py",
   "mimetype": "text/x-python",
   "name": "python",
   "nbconvert_exporter": "python",
   "pygments_lexer": "ipython3",
   "version": "3.9.15"
  }
 },
 "nbformat": 4,
 "nbformat_minor": 5
}
